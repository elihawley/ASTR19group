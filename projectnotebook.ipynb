{
 "cells": [
  {
   "cell_type": "code",
   "execution_count": null,
   "id": "cc422bb0",
   "metadata": {},
   "outputs": [],
   "source": [
    "from scipy import optimize\n",
    "import numpy as np\n",
    "import matplotlib.pyplot as plt"
   ]
  },
  {
   "cell_type": "code",
   "execution_count": null,
   "id": "b8bce1a9",
   "metadata": {},
   "outputs": [],
   "source": [
    "def f_line(x, a, b, c, d) {\n",
    "    return a * np.sin(b * x + c) + d\n",
    "}"
   ]
  },
  {
   "cell_type": "code",
   "execution_count": null,
   "id": "86988d59",
   "metadata": {},
   "outputs": [],
   "source": [
    "values = np.loadtxt(\"ASTR19_S22_group_project_data.txt\", dtype= {'names': ('day', 'high', 'low'), })\n",
    "params, params_cov = optimize.curve_fit(f_line, (values['high'] - values['low']), values['day'], sigma = y_err, p0 = [1, 2., 0.1, -0.1])\n",
    "\n",
    "a_fit = params[0]\n",
    "b_fit = params[1]\n",
    "c_fit = params[2]\n",
    "d_fit = params[3]\n",
    "\n",
    "y_fit = a_fit * np.sin(b_fit * x + c_fit) + d_fit"
   ]
  },
  {
   "cell_type": "code",
   "execution_count": null,
   "id": "c52093e1",
   "metadata": {},
   "outputs": [],
   "source": [
    "f = plt.figure(figsize = (7,7))\n",
    "plt.errorbar(values['day'], (values['high'] - values['low']), yerr = y_err, fmt = 'o', label = \"high/low tide difference\")\n",
    "plt.plot(x, y_fit, label = 'fit')\n",
    "plt.xlabel('day')\n",
    "plt.ylabel('high/low tide difference')\n",
    "plt.legend(loc = 0, frameon = false)\n",
    "plt.savefig('tidegraph.pdf', bbox_inches = \"tight\", dpi = 600)"
   ]
  }
 ],
 "metadata": {
  "kernelspec": {
   "display_name": "Python 3",
   "language": "python",
   "name": "python3"
  },
  "language_info": {
   "codemirror_mode": {
    "name": "ipython",
    "version": 3
   },
   "file_extension": ".py",
   "mimetype": "text/x-python",
   "name": "python",
   "nbconvert_exporter": "python",
   "pygments_lexer": "ipython3",
   "version": "3.6.3"
  }
 },
 "nbformat": 4,
 "nbformat_minor": 5
}
